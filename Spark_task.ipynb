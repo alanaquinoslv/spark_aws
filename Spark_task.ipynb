{
  "nbformat": 4,
  "nbformat_minor": 0,
  "metadata": {
    "colab": {
      "provenance": [],
      "mount_file_id": "1wpFXGpEGrKx5tfzxVk78persM24WWXWH",
      "authorship_tag": "ABX9TyOXhxD9oWf6GcgaY6iXj0p4",
      "include_colab_link": true
    },
    "kernelspec": {
      "name": "python3",
      "display_name": "Python 3"
    },
    "language_info": {
      "name": "python"
    }
  },
  "cells": [
    {
      "cell_type": "markdown",
      "metadata": {
        "id": "view-in-github",
        "colab_type": "text"
      },
      "source": [
        "<a href=\"https://colab.research.google.com/github/alanaquinoslv/spark_aws/blob/main/Spark_task.ipynb\" target=\"_parent\"><img src=\"https://colab.research.google.com/assets/colab-badge.svg\" alt=\"Open In Colab\"/></a>"
      ]
    },
    {
      "cell_type": "code",
      "execution_count": 2,
      "metadata": {
        "id": "RCnT2VWFeH4p"
      },
      "outputs": [],
      "source": [
        "!apt-get install openjdk-8-jdk-headless -qq > /dev/null\n",
        "!wget -q https://dlcdn.apache.org/spark/spark-3.5.1/spark-3.5.1-bin-hadoop3.tgz\n",
        "!tar xf spark-3.5.1-bin-hadoop3.tgz"
      ]
    },
    {
      "cell_type": "code",
      "source": [
        "!pip install -q findspark"
      ],
      "metadata": {
        "id": "FAin69PuezgH"
      },
      "execution_count": 3,
      "outputs": []
    },
    {
      "cell_type": "code",
      "source": [
        "import os\n",
        "\n",
        "os.environ[\"JAVA_HOME\"] = \"/usr/lib/jvm/java-8-openjdk-amd64\""
      ],
      "metadata": {
        "id": "bc2cd-5ef1SS"
      },
      "execution_count": 4,
      "outputs": []
    },
    {
      "cell_type": "code",
      "source": [
        "os.environ[\"SPARK_HOME\"] = \"/content/spark-3.5.1-bin-hadoop3\""
      ],
      "metadata": {
        "id": "JfjgVPnNf3_S"
      },
      "execution_count": 5,
      "outputs": []
    },
    {
      "cell_type": "code",
      "source": [
        "import findspark\n",
        "\n",
        "findspark.init()\n",
        "\n",
        "from pyspark.sql import SparkSession"
      ],
      "metadata": {
        "id": "aijsiUXPf8Tk"
      },
      "execution_count": 6,
      "outputs": []
    },
    {
      "cell_type": "code",
      "source": [
        "spark = SparkSession.builder.master(\"local[*]\").getOrCreate()"
      ],
      "metadata": {
        "id": "pY7fjr37f_E2"
      },
      "execution_count": 7,
      "outputs": []
    },
    {
      "cell_type": "code",
      "source": [
        "df = spark.sql(\"select 'spark' as hello\")\n",
        "df.show()"
      ],
      "metadata": {
        "colab": {
          "base_uri": "https://localhost:8080/"
        },
        "id": "6kgbQabGgC4n",
        "outputId": "83162245-96de-46c2-b430-2be553b2b5e9"
      },
      "execution_count": 8,
      "outputs": [
        {
          "output_type": "stream",
          "name": "stdout",
          "text": [
            "+-----+\n",
            "|hello|\n",
            "+-----+\n",
            "|spark|\n",
            "+-----+\n",
            "\n"
          ]
        }
      ]
    },
    {
      "cell_type": "code",
      "source": [
        "# IMPORTS\n",
        "from pyspark.sql import SparkSession\n",
        "from pyspark.sql.types import StructType, StructField, IntegerType, StringType\n",
        "from pyspark.sql.functions import col, count, when, lit"
      ],
      "metadata": {
        "id": "ulDlbsZmgYq9"
      },
      "execution_count": 67,
      "outputs": []
    },
    {
      "cell_type": "code",
      "source": [
        "schema = StructType([\n",
        "    StructField(\"funcional\", IntegerType(), True),\n",
        "    StructField(\"nome_trilha\", StringType(), True),\n",
        "    StructField(\"cod_trilha\", StringType(), True),\n",
        "    StructField(\"data_finalizacao_prova\", StringType(), True),\n",
        "    StructField(\"ind_trilha_finalizada\", IntegerType(), True)\n",
        "])"
      ],
      "metadata": {
        "id": "YQtc-9Xggt1g"
      },
      "execution_count": 11,
      "outputs": []
    },
    {
      "cell_type": "code",
      "source": [
        "# MOCK\n",
        "data = [\n",
        "    (123, \"ENG_DADOS M1\", \"EG001\", \"2024-01-24\", 1),\n",
        "    (123, \"ENG_DADOS M2\", \"EG002\", \"2024-02-23\", 1),\n",
        "    (123, \"ENG_DADOS M3\", \"EG003\", \"2024-03-22\", 1),\n",
        "\t(992, \"ENG_ANALYTICS M1\", \"ANL01\", \"2024-03-22\", 1),\n",
        "\t(992, \"ENG_ANALYTICS M1\", \"ANL01\", \"2024-03-22\", 0),\n",
        "\t(329, \"ENG_DADOS M1\", \"EG001\", \"2024-01-22\", 1),\n",
        "\t(329, \"ENG_DADOS M2\", \"EG002\", \"2024-03-14\", 1),\n",
        "\t(329, \"ENG_DADOS M3\", \"EG003\", \"2024-03-22\", 0),\n",
        "\t(448, \"ENG_DADOS M1\", \"EG001\", \"2024-01-22\", 1),\n",
        "\t(448, \"ENG_DADOS M2\", \"EG002\", \"2024-01-29\", 1),\n",
        "\t(448, \"ENG_DADOS M3\", \"EG003\", \"2024-02-10\", 1),\n",
        "\t(865, \"ENG_ANALYTICS M1\", \"ANL01\", \"2024-02-22\", 1),\n",
        "\t(865, \"ENG_ANALYTICS M2\", \"ANL02\", \"2024-03-07\", 1),\n",
        "\t(865, \"ENG_ANALYTICS M3\", \"ANL03\", \"2024-03-22\", 1),\n",
        "\t(654, \"ENG_DADOS M1\", \"EG001\", \"2024-03-01\", 1),\n",
        "\t(654, \"ENG_DADOS M2\", \"EG002\", \"2024-03-10\", 0),\n",
        "\t(654, \"ENG_DADOS M3\", \"EG003\", \"2024-03-22\", 0)\n",
        "]"
      ],
      "metadata": {
        "id": "i0e7cJ_wgxbM"
      },
      "execution_count": 12,
      "outputs": []
    },
    {
      "cell_type": "code",
      "source": [
        "df = spark.createDataFrame(data, schema)\n",
        "df.show()"
      ],
      "metadata": {
        "colab": {
          "base_uri": "https://localhost:8080/"
        },
        "id": "wiAtfR3Xg22c",
        "outputId": "cf8ad7cb-b84d-45a5-fe12-b3e4bb8dfbb1"
      },
      "execution_count": 13,
      "outputs": [
        {
          "output_type": "stream",
          "name": "stdout",
          "text": [
            "+---------+----------------+----------+----------------------+---------------------+\n",
            "|funcional|     nome_trilha|cod_trilha|data_finalizacao_prova|ind_trilha_finalizada|\n",
            "+---------+----------------+----------+----------------------+---------------------+\n",
            "|      123|    ENG_DADOS M1|     EG001|            2024-01-24|                    1|\n",
            "|      123|    ENG_DADOS M2|     EG002|            2024-02-23|                    1|\n",
            "|      123|    ENG_DADOS M3|     EG003|            2024-03-22|                    1|\n",
            "|      992|ENG_ANALYTICS M1|     ANL01|            2024-03-22|                    1|\n",
            "|      992|ENG_ANALYTICS M1|     ANL01|            2024-03-22|                    0|\n",
            "|      329|    ENG_DADOS M1|     EG001|            2024-01-22|                    1|\n",
            "|      329|    ENG_DADOS M2|     EG002|            2024-03-14|                    1|\n",
            "|      329|    ENG_DADOS M3|     EG003|            2024-03-22|                    0|\n",
            "|      448|    ENG_DADOS M1|     EG001|            2024-01-22|                    1|\n",
            "|      448|    ENG_DADOS M2|     EG002|            2024-01-29|                    1|\n",
            "|      448|    ENG_DADOS M3|     EG003|            2024-02-10|                    1|\n",
            "|      865|ENG_ANALYTICS M1|     ANL01|            2024-02-22|                    1|\n",
            "|      865|ENG_ANALYTICS M2|     ANL02|            2024-03-07|                    1|\n",
            "|      865|ENG_ANALYTICS M3|     ANL03|            2024-03-22|                    1|\n",
            "|      654|    ENG_DADOS M1|     EG001|            2024-03-01|                    1|\n",
            "|      654|    ENG_DADOS M2|     EG002|            2024-03-10|                    0|\n",
            "|      654|    ENG_DADOS M3|     EG003|            2024-03-22|                    0|\n",
            "+---------+----------------+----------+----------------------+---------------------+\n",
            "\n"
          ]
        }
      ]
    },
    {
      "cell_type": "code",
      "source": [
        "# Códigos das trilhas para filtrar\n",
        "codes_eng_dados = [\"EG001\", \"EG002\", \"EG003\"]\n",
        "# Filtrar os dados de acordo com os critérios\n",
        "df_filtrado = df.filter((col(\"cod_trilha\").isin(codes_eng_dados)) & (col(\"ind_trilha_finalizada\") == 1))\n",
        "df_filtrado.show()"
      ],
      "metadata": {
        "colab": {
          "base_uri": "https://localhost:8080/"
        },
        "id": "278T7-zfg7Jr",
        "outputId": "4d597c70-d099-48aa-f6de-11420914dae8"
      },
      "execution_count": 27,
      "outputs": [
        {
          "output_type": "stream",
          "name": "stdout",
          "text": [
            "+---------+------------+----------+----------------------+---------------------+\n",
            "|funcional| nome_trilha|cod_trilha|data_finalizacao_prova|ind_trilha_finalizada|\n",
            "+---------+------------+----------+----------------------+---------------------+\n",
            "|      123|ENG_DADOS M1|     EG001|            2024-01-24|                    1|\n",
            "|      123|ENG_DADOS M2|     EG002|            2024-02-23|                    1|\n",
            "|      123|ENG_DADOS M3|     EG003|            2024-03-22|                    1|\n",
            "|      329|ENG_DADOS M1|     EG001|            2024-01-22|                    1|\n",
            "|      329|ENG_DADOS M2|     EG002|            2024-03-14|                    1|\n",
            "|      448|ENG_DADOS M1|     EG001|            2024-01-22|                    1|\n",
            "|      448|ENG_DADOS M2|     EG002|            2024-01-29|                    1|\n",
            "|      448|ENG_DADOS M3|     EG003|            2024-02-10|                    1|\n",
            "|      654|ENG_DADOS M1|     EG001|            2024-03-01|                    1|\n",
            "+---------+------------+----------+----------------------+---------------------+\n",
            "\n"
          ]
        }
      ]
    },
    {
      "cell_type": "code",
      "source": [
        "# TESTES\n",
        "\n",
        "# Contando os módulos finalizados\n",
        "dados_completo = df_filtrado.groupBy(\"funcional\").agg(\n",
        "    count(when((col(\"cod_trilha\") == 'EG001') & (col(\"ind_trilha_finalizada\") == 1), col(\"cod_trilha\"))).alias(\"modulo1\"),\n",
        "    count(when((col(\"cod_trilha\") == 'EG002') & (col(\"ind_trilha_finalizada\") == 1), col(\"cod_trilha\"))).alias(\"modulo2\"),\n",
        "    count(when((col(\"cod_trilha\") == 'EG003') & (col(\"ind_trilha_finalizada\") == 1), col(\"cod_trilha\"))).alias(\"modulo3\")\n",
        ")\n",
        "\n",
        "dados_completo.show()"
      ],
      "metadata": {
        "colab": {
          "base_uri": "https://localhost:8080/"
        },
        "id": "2jUMQdoHJA2j",
        "outputId": "769db219-c1b6-4359-ba76-70a812ddfff0"
      },
      "execution_count": 65,
      "outputs": [
        {
          "output_type": "stream",
          "name": "stdout",
          "text": [
            "+---------+-------+-------+-------+\n",
            "|funcional|modulo1|modulo2|modulo3|\n",
            "+---------+-------+-------+-------+\n",
            "|      329|      1|      1|      0|\n",
            "|      123|      1|      1|      1|\n",
            "|      654|      1|      0|      0|\n",
            "|      448|      1|      1|      1|\n",
            "+---------+-------+-------+-------+\n",
            "\n"
          ]
        }
      ]
    },
    {
      "cell_type": "code",
      "source": [
        "# TESTES\n",
        "# CRIANDO FLAGS\n",
        "flag = dados_completo.withColumn(\"eng_dados_completo\",\n",
        "                                           when((col(\"modulo1\") + col(\"modulo2\") + col(\"modulo3\")) == 3, lit(1)).otherwise(0))\n",
        "\n",
        "flag.show()"
      ],
      "metadata": {
        "colab": {
          "base_uri": "https://localhost:8080/"
        },
        "id": "kEOWwz1pJvI1",
        "outputId": "bb6a8c70-6715-4ee9-9b5e-5f8e33f8910c"
      },
      "execution_count": 68,
      "outputs": [
        {
          "output_type": "stream",
          "name": "stdout",
          "text": [
            "+---------+-------+-------+-------+------------------+\n",
            "|funcional|modulo1|modulo2|modulo3|eng_dados_completo|\n",
            "+---------+-------+-------+-------+------------------+\n",
            "|      329|      1|      1|      0|                 0|\n",
            "|      123|      1|      1|      1|                 1|\n",
            "|      654|      1|      0|      0|                 0|\n",
            "|      448|      1|      1|      1|                 1|\n",
            "+---------+-------+-------+-------+------------------+\n",
            "\n"
          ]
        }
      ]
    },
    {
      "cell_type": "code",
      "source": [
        "# TESTES\n",
        "flag_filter = flag.filter(col('eng_dados_completo') == 1)\n",
        "flag_filter.show()"
      ],
      "metadata": {
        "colab": {
          "base_uri": "https://localhost:8080/"
        },
        "id": "Lo4irYQoLKth",
        "outputId": "b0a2ee55-f4a8-4acc-e2dc-38c6b553864a"
      },
      "execution_count": 71,
      "outputs": [
        {
          "output_type": "stream",
          "name": "stdout",
          "text": [
            "+---------+-------+-------+-------+------------------+\n",
            "|funcional|modulo1|modulo2|modulo3|eng_dados_completo|\n",
            "+---------+-------+-------+-------+------------------+\n",
            "|      123|      1|      1|      1|                 1|\n",
            "|      448|      1|      1|      1|                 1|\n",
            "+---------+-------+-------+-------+------------------+\n",
            "\n"
          ]
        }
      ]
    },
    {
      "cell_type": "code",
      "source": [
        "# Realizar a contagem dos módulos finalizados agrupados por funcional\n",
        "resultado = df_filtrado.groupBy(\"funcional\").agg(count(\"*\").alias(\"mod_eng_dados_completed\"))\n",
        "resultado.show()"
      ],
      "metadata": {
        "colab": {
          "base_uri": "https://localhost:8080/"
        },
        "id": "Q0qiM9r6iPXy",
        "outputId": "bf6afaec-2914-45d7-e190-1ab357a61866"
      },
      "execution_count": 30,
      "outputs": [
        {
          "output_type": "stream",
          "name": "stdout",
          "text": [
            "+---------+-----------------------+\n",
            "|funcional|mod_eng_dados_completed|\n",
            "+---------+-----------------------+\n",
            "|      329|                      2|\n",
            "|      123|                      3|\n",
            "|      654|                      1|\n",
            "|      448|                      3|\n",
            "+---------+-----------------------+\n",
            "\n"
          ]
        }
      ]
    },
    {
      "cell_type": "code",
      "source": [
        "# Contar o número de módulos completados para cada funcional\n",
        "contagem_modulos = df_filtrado.groupBy(\"funcional\").agg(count(\"*\").alias(\"total_modulos\"))\n",
        "\n",
        "# Filtrar os usuários que têm os três módulos completados\n",
        "usuarios_completos = contagem_modulos.filter(col(\"total_modulos\") == 3)\n",
        "\n",
        "# Mostrar os resultados\n",
        "usuarios_completos.show()"
      ],
      "metadata": {
        "colab": {
          "base_uri": "https://localhost:8080/"
        },
        "id": "azSmWmncjtzk",
        "outputId": "42bd6e95-d53e-4de8-fd1a-fb05092ea115"
      },
      "execution_count": 26,
      "outputs": [
        {
          "output_type": "stream",
          "name": "stdout",
          "text": [
            "+---------+-------------+\n",
            "|funcional|total_modulos|\n",
            "+---------+-------------+\n",
            "|      123|            3|\n",
            "|      448|            3|\n",
            "+---------+-------------+\n",
            "\n"
          ]
        }
      ]
    },
    {
      "cell_type": "code",
      "source": [
        "# Contar o número de módulos completados para cada funcional\n",
        "contagem_modulos = df_filtrado.groupBy(\"funcional\").agg(count(\"*\").alias(\"count_finalizados\"))\n",
        "\n",
        "# Criar uma nova coluna \"eng_dados_completed\" com base na contagem de módulos\n",
        "df_completos = contagem_modulos.withColumn(\"eng_dados_completed\", when(col(\"count_finalizados\") == 3, 1).otherwise(0))\n",
        "df_completos.show()"
      ],
      "metadata": {
        "colab": {
          "base_uri": "https://localhost:8080/"
        },
        "id": "kRmJLwK-nf0v",
        "outputId": "d221cdc4-73c8-4c4f-d51b-a427a4ca2f16"
      },
      "execution_count": 34,
      "outputs": [
        {
          "output_type": "stream",
          "name": "stdout",
          "text": [
            "+---------+-----------------+-------------------+\n",
            "|funcional|count_finalizados|eng_dados_completed|\n",
            "+---------+-----------------+-------------------+\n",
            "|      329|                2|                  0|\n",
            "|      123|                3|                  1|\n",
            "|      654|                1|                  0|\n",
            "|      448|                3|                  1|\n",
            "+---------+-----------------+-------------------+\n",
            "\n"
          ]
        }
      ]
    },
    {
      "cell_type": "code",
      "source": [
        "# Códigos das trilhas para filtrar\n",
        "codes_eng_analytics = [\"ANL01\", \"ANL02\", \"ANL03\"]\n",
        "# Filtrar os dados de acordo com os critérios\n",
        "df_filtrado_anl = df.filter((col(\"cod_trilha\").isin(codes_eng_analytics)) & (col(\"ind_trilha_finalizada\") == 1))\n",
        "df_filtrado_anl.show()"
      ],
      "metadata": {
        "colab": {
          "base_uri": "https://localhost:8080/"
        },
        "id": "BvA-5BEMpNWi",
        "outputId": "2ba8af08-2d35-463b-fc0f-dcf7e3285582"
      },
      "execution_count": 35,
      "outputs": [
        {
          "output_type": "stream",
          "name": "stdout",
          "text": [
            "+---------+----------------+----------+----------------------+---------------------+\n",
            "|funcional|     nome_trilha|cod_trilha|data_finalizacao_prova|ind_trilha_finalizada|\n",
            "+---------+----------------+----------+----------------------+---------------------+\n",
            "|      992|ENG_ANALYTICS M1|     ANL01|            2024-03-22|                    1|\n",
            "|      865|ENG_ANALYTICS M1|     ANL01|            2024-02-22|                    1|\n",
            "|      865|ENG_ANALYTICS M2|     ANL02|            2024-03-07|                    1|\n",
            "|      865|ENG_ANALYTICS M3|     ANL03|            2024-03-22|                    1|\n",
            "+---------+----------------+----------+----------------------+---------------------+\n",
            "\n"
          ]
        }
      ]
    },
    {
      "cell_type": "code",
      "source": [
        "# Realizar a contagem dos módulos finalizados agrupados por funcional\n",
        "resultado_anl = df_filtrado_anl.groupBy(\"funcional\").agg(count(\"*\").alias(\"mod_eng_analytics_completed\"))\n",
        "resultado_anl.show()"
      ],
      "metadata": {
        "colab": {
          "base_uri": "https://localhost:8080/"
        },
        "id": "c2D5ZQ5kpa_p",
        "outputId": "61dd9b03-f091-4675-b85e-d3917ddb93ed"
      },
      "execution_count": 36,
      "outputs": [
        {
          "output_type": "stream",
          "name": "stdout",
          "text": [
            "+---------+---------------------------+\n",
            "|funcional|mod_eng_analytics_completed|\n",
            "+---------+---------------------------+\n",
            "|      992|                          1|\n",
            "|      865|                          3|\n",
            "+---------+---------------------------+\n",
            "\n"
          ]
        }
      ]
    },
    {
      "cell_type": "code",
      "source": [
        "# Contar o número de módulos completados para cada funcional\n",
        "contagem_modulos_anl = df_filtrado_anl.groupBy(\"funcional\").agg(count(\"*\").alias(\"count_finalizados_anl\"))\n",
        "\n",
        "# Criar uma nova coluna \"eng_dados_completed\" com base na contagem de módulos\n",
        "df_completos_anl = contagem_modulos_anl.withColumn(\"eng_analytics_completed\", when(col(\"count_finalizados_anl\") == 3, 1).otherwise(0))\n",
        "df_completos_anl.show()"
      ],
      "metadata": {
        "colab": {
          "base_uri": "https://localhost:8080/"
        },
        "id": "hQrJv9xBpuMb",
        "outputId": "c59fc9d4-4273-456f-c85c-de5b81806b4a"
      },
      "execution_count": 46,
      "outputs": [
        {
          "output_type": "stream",
          "name": "stdout",
          "text": [
            "+---------+---------------------+-----------------------+\n",
            "|funcional|count_finalizados_anl|eng_analytics_completed|\n",
            "+---------+---------------------+-----------------------+\n",
            "|      992|                    1|                      0|\n",
            "|      865|                    3|                      1|\n",
            "+---------+---------------------+-----------------------+\n",
            "\n"
          ]
        }
      ]
    },
    {
      "cell_type": "code",
      "source": [
        "df_merged = df_completos.join(df_completos_anl, \"funcional\", \"full\")\n",
        "df_merged.show()"
      ],
      "metadata": {
        "colab": {
          "base_uri": "https://localhost:8080/"
        },
        "id": "jcp-dvasqAoS",
        "outputId": "d4e71566-7bc2-4da1-acda-0daf0a55fa08"
      },
      "execution_count": 44,
      "outputs": [
        {
          "output_type": "stream",
          "name": "stdout",
          "text": [
            "+---------+-----------------+-------------------+---------------------+-----------------------+\n",
            "|funcional|count_finalizados|eng_dados_completed|count_finalizados_anl|eng_analytics_completed|\n",
            "+---------+-----------------+-------------------+---------------------+-----------------------+\n",
            "|      123|                3|                  1|                 NULL|                   NULL|\n",
            "|      329|                2|                  0|                 NULL|                   NULL|\n",
            "|      448|                3|                  1|                 NULL|                   NULL|\n",
            "|      654|                1|                  0|                 NULL|                   NULL|\n",
            "|      865|             NULL|               NULL|                    3|                      1|\n",
            "|      992|             NULL|               NULL|                    1|                      0|\n",
            "+---------+-----------------+-------------------+---------------------+-----------------------+\n",
            "\n"
          ]
        }
      ]
    },
    {
      "cell_type": "code",
      "source": [
        "# Juntar os DataFrames \"ENG_DADOS\" e \"ENG_ANALYTICS\" ao DataFrame inicial\n",
        "df_joined = df.join(df_completos.select(\"funcional\", \"eng_dados_completed\"), \"funcional\", \"left\") \\\n",
        "             .join(df_completos_anl.select(\"funcional\", \"eng_analytics_completed\"), \"funcional\", \"left\")\n",
        "\n",
        "df_joined.show()"
      ],
      "metadata": {
        "colab": {
          "base_uri": "https://localhost:8080/"
        },
        "id": "6SEgNxG4xI81",
        "outputId": "54560a1b-65e4-49c7-ec49-6aa0884d962e"
      },
      "execution_count": 48,
      "outputs": [
        {
          "output_type": "stream",
          "name": "stdout",
          "text": [
            "+---------+----------------+----------+----------------------+---------------------+-------------------+-----------------------+\n",
            "|funcional|     nome_trilha|cod_trilha|data_finalizacao_prova|ind_trilha_finalizada|eng_dados_completed|eng_analytics_completed|\n",
            "+---------+----------------+----------+----------------------+---------------------+-------------------+-----------------------+\n",
            "|      329|    ENG_DADOS M1|     EG001|            2024-01-22|                    1|                  0|                   NULL|\n",
            "|      329|    ENG_DADOS M2|     EG002|            2024-03-14|                    1|                  0|                   NULL|\n",
            "|      329|    ENG_DADOS M3|     EG003|            2024-03-22|                    0|                  0|                   NULL|\n",
            "|      992|ENG_ANALYTICS M1|     ANL01|            2024-03-22|                    1|               NULL|                      0|\n",
            "|      992|ENG_ANALYTICS M1|     ANL01|            2024-03-22|                    0|               NULL|                      0|\n",
            "|      123|    ENG_DADOS M1|     EG001|            2024-01-24|                    1|                  1|                   NULL|\n",
            "|      123|    ENG_DADOS M2|     EG002|            2024-02-23|                    1|                  1|                   NULL|\n",
            "|      123|    ENG_DADOS M3|     EG003|            2024-03-22|                    1|                  1|                   NULL|\n",
            "|      654|    ENG_DADOS M1|     EG001|            2024-03-01|                    1|                  0|                   NULL|\n",
            "|      654|    ENG_DADOS M2|     EG002|            2024-03-10|                    0|                  0|                   NULL|\n",
            "|      654|    ENG_DADOS M3|     EG003|            2024-03-22|                    0|                  0|                   NULL|\n",
            "|      448|    ENG_DADOS M1|     EG001|            2024-01-22|                    1|                  1|                   NULL|\n",
            "|      448|    ENG_DADOS M2|     EG002|            2024-01-29|                    1|                  1|                   NULL|\n",
            "|      448|    ENG_DADOS M3|     EG003|            2024-02-10|                    1|                  1|                   NULL|\n",
            "|      865|ENG_ANALYTICS M1|     ANL01|            2024-02-22|                    1|               NULL|                      1|\n",
            "|      865|ENG_ANALYTICS M2|     ANL02|            2024-03-07|                    1|               NULL|                      1|\n",
            "|      865|ENG_ANALYTICS M3|     ANL03|            2024-03-22|                    1|               NULL|                      1|\n",
            "+---------+----------------+----------+----------------------+---------------------+-------------------+-----------------------+\n",
            "\n"
          ]
        }
      ]
    },
    {
      "cell_type": "code",
      "source": [
        "joined_filter = df_joined.filter((col(\"eng_dados_completed\") == 1) | (col(\"eng_analytics_completed\") == 1))\n",
        "joined_filter.show()"
      ],
      "metadata": {
        "colab": {
          "base_uri": "https://localhost:8080/"
        },
        "id": "7YpGlPRo5Gxm",
        "outputId": "e3ef6880-d2ce-452a-b0f5-8f1df66df0c5"
      },
      "execution_count": 50,
      "outputs": [
        {
          "output_type": "stream",
          "name": "stdout",
          "text": [
            "+---------+----------------+----------+----------------------+---------------------+-------------------+-----------------------+\n",
            "|funcional|     nome_trilha|cod_trilha|data_finalizacao_prova|ind_trilha_finalizada|eng_dados_completed|eng_analytics_completed|\n",
            "+---------+----------------+----------+----------------------+---------------------+-------------------+-----------------------+\n",
            "|      123|    ENG_DADOS M1|     EG001|            2024-01-24|                    1|                  1|                   NULL|\n",
            "|      123|    ENG_DADOS M2|     EG002|            2024-02-23|                    1|                  1|                   NULL|\n",
            "|      123|    ENG_DADOS M3|     EG003|            2024-03-22|                    1|                  1|                   NULL|\n",
            "|      448|    ENG_DADOS M1|     EG001|            2024-01-22|                    1|                  1|                   NULL|\n",
            "|      448|    ENG_DADOS M2|     EG002|            2024-01-29|                    1|                  1|                   NULL|\n",
            "|      448|    ENG_DADOS M3|     EG003|            2024-02-10|                    1|                  1|                   NULL|\n",
            "|      865|ENG_ANALYTICS M1|     ANL01|            2024-02-22|                    1|               NULL|                      1|\n",
            "|      865|ENG_ANALYTICS M2|     ANL02|            2024-03-07|                    1|               NULL|                      1|\n",
            "|      865|ENG_ANALYTICS M3|     ANL03|            2024-03-22|                    1|               NULL|                      1|\n",
            "+---------+----------------+----------+----------------------+---------------------+-------------------+-----------------------+\n",
            "\n"
          ]
        }
      ]
    },
    {
      "cell_type": "code",
      "source": [
        "# Selecionar apenas uma linha para cada 'funcional' utilizando distinct\n",
        "joined_filter_distinct = joined_filter.select(\"funcional\", \"eng_dados_completed\", \"eng_analytics_completed\").distinct()\n",
        "\n",
        "# Mostrar os resultados\n",
        "joined_filter_distinct.show()"
      ],
      "metadata": {
        "colab": {
          "base_uri": "https://localhost:8080/"
        },
        "id": "z2cibMO37BuM",
        "outputId": "da928bb6-974f-4765-9933-260680c8b900"
      },
      "execution_count": 61,
      "outputs": [
        {
          "output_type": "stream",
          "name": "stdout",
          "text": [
            "+---------+-------------------+-----------------------+\n",
            "|funcional|eng_dados_completed|eng_analytics_completed|\n",
            "+---------+-------------------+-----------------------+\n",
            "|      123|                  1|                   NULL|\n",
            "|      448|                  1|                   NULL|\n",
            "|      865|               NULL|                      1|\n",
            "+---------+-------------------+-----------------------+\n",
            "\n"
          ]
        }
      ]
    },
    {
      "cell_type": "code",
      "source": [
        "# Substituir campos nulos por 0 em todo o DataFrame\n",
        "df_final = joined_filter_distinct.fillna(0)\n",
        "df_final.show()"
      ],
      "metadata": {
        "colab": {
          "base_uri": "https://localhost:8080/"
        },
        "id": "Sey4EqB69klK",
        "outputId": "26ec2d77-5bf6-493d-d83c-eb5059b5150f"
      },
      "execution_count": 62,
      "outputs": [
        {
          "output_type": "stream",
          "name": "stdout",
          "text": [
            "+---------+-------------------+-----------------------+\n",
            "|funcional|eng_dados_completed|eng_analytics_completed|\n",
            "+---------+-------------------+-----------------------+\n",
            "|      123|                  1|                      0|\n",
            "|      448|                  1|                      0|\n",
            "|      865|                  0|                      1|\n",
            "+---------+-------------------+-----------------------+\n",
            "\n"
          ]
        }
      ]
    },
    {
      "cell_type": "code",
      "source": [],
      "metadata": {
        "id": "XTf1s21q901_"
      },
      "execution_count": null,
      "outputs": []
    }
  ]
}